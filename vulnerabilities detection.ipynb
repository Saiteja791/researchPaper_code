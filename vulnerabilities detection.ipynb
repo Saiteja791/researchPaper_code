{
 "cells": [
  {
   "cell_type": "code",
   "execution_count": 1,
   "id": "721562f4",
   "metadata": {},
   "outputs": [
    {
     "name": "stdout",
     "output_type": "stream",
     "text": [
      "Dataset saved as vulnerability_dataset.csv\n"
     ]
    }
   ],
   "source": [
    "import pandas as pd\n",
    "\n",
    "# Define vulnerable and secure code snippets\n",
    "data = [\n",
    "    # Command Injection\n",
    "    {\"code\": \"import os\\nos.system('rm -rf ' + user_input)\", \"label\": 1},\n",
    "    {\"code\": \"import subprocess\\nsubprocess.run(['rm', '-rf', user_input])\", \"label\": 0},\n",
    "    \n",
    "    # XSS\n",
    "    {\"code\": \"response = '<script>alert(' + user_input + ')</script>'\", \"label\": 1},\n",
    "    {\"code\": \"import html\\nresponse = html.escape(user_input)\", \"label\": 0},\n",
    "    \n",
    "    # SQL Injection\n",
    "    {\"code\": \"query = 'SELECT * FROM users WHERE id = ' + user_input\", \"label\": 1},\n",
    "    {\"code\": \"query = 'SELECT * FROM users WHERE id = %s'\\ncursor.execute(query, (user_input,))\", \"label\": 0},\n",
    "    \n",
    "    # Path Traversal\n",
    "    {\"code\": \"open('/var/www/html/' + user_input)\", \"label\": 1},\n",
    "    {\"code\": \"from pathlib import Path\\nPath('/var/www/html/').joinpath(user_input).resolve()\", \"label\": 0},\n",
    "    \n",
    "    # Insecure Deserialization\n",
    "    {\"code\": \"pickle.loads(user_input)\", \"label\": 1},\n",
    "    {\"code\": \"import json\\njson.loads(user_input)\", \"label\": 0},\n",
    "    \n",
    "    # Hardcoded Secrets\n",
    "    {\"code\": \"password = '123456'\", \"label\": 1},\n",
    "    {\"code\": \"import os\\npassword = os.getenv('APP_PASSWORD')\", \"label\": 0},\n",
    "    \n",
    "    # Buffer Overflow\n",
    "    {\"code\": \"buffer = 'A' * 10000\", \"label\": 1},\n",
    "    {\"code\": \"buffer = bytearray(100)\\nuser_input[:len(buffer)] = buffer\", \"label\": 0},\n",
    "    \n",
    "    # Improper Error Handling\n",
    "    {\"code\": \"try:\\n    1/0\\nexcept:\\n    pass\", \"label\": 1},\n",
    "    {\"code\": \"try:\\n    1/0\\nexcept ZeroDivisionError as e:\\n    print(e)\", \"label\": 0},\n",
    "    \n",
    "    # Input Validation Issues\n",
    "    {\"code\": \"if user_input == 'admin':\\n    access = True\", \"label\": 1},\n",
    "    {\"code\": \"if user_input.strip().lower() == 'admin':\\n    access = True\", \"label\": 0},\n",
    "]\n",
    "\n",
    "# Create a DataFrame\n",
    "df = pd.DataFrame(data)\n",
    "\n",
    "# Save to CSV\n",
    "file_name = \"vulnerability_dataset.csv\"\n",
    "df.to_csv(file_name, index=False)\n",
    "print(f\"Dataset saved as {file_name}\")\n"
   ]
  },
  {
   "cell_type": "code",
   "execution_count": 2,
   "id": "668e624a",
   "metadata": {},
   "outputs": [
    {
     "name": "stderr",
     "output_type": "stream",
     "text": [
      "F:\\anaconda\\lib\\site-packages\\keras\\src\\layers\\core\\embedding.py:90: UserWarning: Argument `input_length` is deprecated. Just remove it.\n",
      "  warnings.warn(\n"
     ]
    },
    {
     "name": "stdout",
     "output_type": "stream",
     "text": [
      "Epoch 1/10\n",
      "\u001b[1m1/1\u001b[0m \u001b[32m━━━━━━━━━━━━━━━━━━━━\u001b[0m\u001b[37m\u001b[0m \u001b[1m13s\u001b[0m 13s/step - accuracy: 0.2857 - loss: 0.6948 - val_accuracy: 0.7500 - val_loss: 0.6915\n",
      "Epoch 2/10\n",
      "\u001b[1m1/1\u001b[0m \u001b[32m━━━━━━━━━━━━━━━━━━━━\u001b[0m\u001b[37m\u001b[0m \u001b[1m0s\u001b[0m 136ms/step - accuracy: 0.5714 - loss: 0.6888 - val_accuracy: 1.0000 - val_loss: 0.6904\n",
      "Epoch 3/10\n",
      "\u001b[1m1/1\u001b[0m \u001b[32m━━━━━━━━━━━━━━━━━━━━\u001b[0m\u001b[37m\u001b[0m \u001b[1m0s\u001b[0m 164ms/step - accuracy: 0.5714 - loss: 0.6873 - val_accuracy: 0.5000 - val_loss: 0.6885\n",
      "Epoch 4/10\n",
      "\u001b[1m1/1\u001b[0m \u001b[32m━━━━━━━━━━━━━━━━━━━━\u001b[0m\u001b[37m\u001b[0m \u001b[1m0s\u001b[0m 164ms/step - accuracy: 0.3571 - loss: 0.7037 - val_accuracy: 0.5000 - val_loss: 0.6879\n",
      "Epoch 5/10\n",
      "\u001b[1m1/1\u001b[0m \u001b[32m━━━━━━━━━━━━━━━━━━━━\u001b[0m\u001b[37m\u001b[0m \u001b[1m0s\u001b[0m 196ms/step - accuracy: 0.6429 - loss: 0.6810 - val_accuracy: 0.5000 - val_loss: 0.6871\n",
      "Epoch 6/10\n",
      "\u001b[1m1/1\u001b[0m \u001b[32m━━━━━━━━━━━━━━━━━━━━\u001b[0m\u001b[37m\u001b[0m \u001b[1m0s\u001b[0m 170ms/step - accuracy: 0.3571 - loss: 0.6969 - val_accuracy: 0.5000 - val_loss: 0.6855\n",
      "Epoch 7/10\n",
      "\u001b[1m1/1\u001b[0m \u001b[32m━━━━━━━━━━━━━━━━━━━━\u001b[0m\u001b[37m\u001b[0m \u001b[1m0s\u001b[0m 207ms/step - accuracy: 0.6429 - loss: 0.6720 - val_accuracy: 0.5000 - val_loss: 0.6838\n",
      "Epoch 8/10\n",
      "\u001b[1m1/1\u001b[0m \u001b[32m━━━━━━━━━━━━━━━━━━━━\u001b[0m\u001b[37m\u001b[0m \u001b[1m0s\u001b[0m 220ms/step - accuracy: 0.7143 - loss: 0.6823 - val_accuracy: 0.5000 - val_loss: 0.6822\n",
      "Epoch 9/10\n",
      "\u001b[1m1/1\u001b[0m \u001b[32m━━━━━━━━━━━━━━━━━━━━\u001b[0m\u001b[37m\u001b[0m \u001b[1m0s\u001b[0m 205ms/step - accuracy: 0.5714 - loss: 0.6594 - val_accuracy: 0.5000 - val_loss: 0.6800\n",
      "Epoch 10/10\n",
      "\u001b[1m1/1\u001b[0m \u001b[32m━━━━━━━━━━━━━━━━━━━━\u001b[0m\u001b[37m\u001b[0m \u001b[1m0s\u001b[0m 213ms/step - accuracy: 0.6429 - loss: 0.6751 - val_accuracy: 0.5000 - val_loss: 0.6770\n",
      "\u001b[1m1/1\u001b[0m \u001b[32m━━━━━━━━━━━━━━━━━━━━\u001b[0m\u001b[37m\u001b[0m \u001b[1m0s\u001b[0m 36ms/step - accuracy: 0.5000 - loss: 0.6770\n"
     ]
    },
    {
     "name": "stderr",
     "output_type": "stream",
     "text": [
      "WARNING:absl:You are saving your model as an HDF5 file via `model.save()` or `keras.saving.save_model(model)`. This file format is considered legacy. We recommend using instead the native Keras format, e.g. `model.save('my_model.keras')` or `keras.saving.save_model(model, 'my_model.keras')`. \n"
     ]
    },
    {
     "name": "stdout",
     "output_type": "stream",
     "text": [
      "Validation Loss: 0.6770\n",
      "Validation Accuracy: 0.5000\n",
      "Model saved as 'vulnerability_detection_model.h5'\n"
     ]
    }
   ],
   "source": [
    "import pandas as pd\n",
    "import numpy as np\n",
    "from sklearn.model_selection import train_test_split\n",
    "from tensorflow.keras.preprocessing.text import Tokenizer\n",
    "from tensorflow.keras.preprocessing.sequence import pad_sequences\n",
    "from tensorflow.keras.models import Sequential\n",
    "from tensorflow.keras.layers import Embedding, LSTM, Dense, Dropout, Bidirectional\n",
    "\n",
    "# Step 1: Load and Preprocess Data\n",
    "# Load dataset\n",
    "file_name = \"vulnerability_dataset.csv\"\n",
    "data = pd.read_csv(file_name)\n",
    "\n",
    "# Extract features and labels\n",
    "texts = data['code'].values  # Code snippets\n",
    "labels = data['label'].values  # Labels (0: Secure, 1: Vulnerable)\n",
    "\n",
    "# Tokenize the text\n",
    "tokenizer = Tokenizer()\n",
    "tokenizer.fit_on_texts(texts)\n",
    "sequences = tokenizer.texts_to_sequences(texts)\n",
    "\n",
    "# Pad sequences for uniform input size\n",
    "max_sequence_length = 100  # Maximum length of a code snippet\n",
    "X = pad_sequences(sequences, maxlen=max_sequence_length)\n",
    "y = np.array(labels)\n",
    "\n",
    "# Split data into training and validation sets\n",
    "X_train, X_val, y_train, y_val = train_test_split(X, y, test_size=0.2, random_state=42)\n",
    "\n",
    "# Step 2: Define the Model\n",
    "model = Sequential([\n",
    "    Embedding(input_dim=len(tokenizer.word_index) + 1,  # Vocabulary size\n",
    "              output_dim=128,  # Embedding dimension\n",
    "              input_length=max_sequence_length),\n",
    "    Bidirectional(LSTM(128, return_sequences=True)),\n",
    "    Dropout(0.5),\n",
    "    LSTM(64),\n",
    "    Dense(32, activation='relu'),\n",
    "    Dropout(0.5),\n",
    "    Dense(1, activation='sigmoid')  # Binary classification\n",
    "])\n",
    "\n",
    "# Step 3: Compile the Model\n",
    "model.compile(optimizer='adam',\n",
    "              loss='binary_crossentropy',\n",
    "              metrics=['accuracy'])\n",
    "\n",
    "# Step 4: Train the Model\n",
    "history = model.fit(X_train, y_train,\n",
    "                    validation_data=(X_val, y_val),\n",
    "                    epochs=10,\n",
    "                    batch_size=32)\n",
    "\n",
    "# Step 5: Evaluate and Save the Model\n",
    "loss, accuracy = model.evaluate(X_val, y_val)\n",
    "print(f\"Validation Loss: {loss:.4f}\")\n",
    "print(f\"Validation Accuracy: {accuracy:.4f}\")\n",
    "\n",
    "# Save the model\n",
    "model.save(\"vulnerability_detection_model.h5\")\n",
    "print(\"Model saved as 'vulnerability_detection_model.h5'\")\n"
   ]
  },
  {
   "cell_type": "code",
   "execution_count": null,
   "id": "ab9cc831",
   "metadata": {},
   "outputs": [],
   "source": []
  }
 ],
 "metadata": {
  "kernelspec": {
   "display_name": "Python 3 (ipykernel)",
   "language": "python",
   "name": "python3"
  },
  "language_info": {
   "codemirror_mode": {
    "name": "ipython",
    "version": 3
   },
   "file_extension": ".py",
   "mimetype": "text/x-python",
   "name": "python",
   "nbconvert_exporter": "python",
   "pygments_lexer": "ipython3",
   "version": "3.9.12"
  }
 },
 "nbformat": 4,
 "nbformat_minor": 5
}
